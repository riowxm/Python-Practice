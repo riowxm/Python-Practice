{
 "cells": [
  {
   "cell_type": "markdown",
   "metadata": {},
   "source": [
    "# Dictionary"
   ]
  },
  {
   "cell_type": "code",
   "execution_count": null,
   "metadata": {
    "collapsed": true
   },
   "outputs": [],
   "source": [
    "\"\"\"Implement function wordcount() that \n",
    "takes as input a text—as a string— and \n",
    "prints the frequency of each word in the text; \n",
    "assume there is no punctuation in the text.\n",
    "\n",
    ">>> text = 'all animals are equal but some animals are more equal than other'\n",
    ">>> wordCount(text)\n",
    "all      appears 1 time.\n",
    "animals  appears 2 times.\n",
    "some     appears 1 time.\n",
    "equal    appears 2 times.\n",
    "but      appears 1 time.\n",
    "other    appears 1 time.\n",
    "are      appears 2 times.\n",
    "than     appears 1 time.\n",
    "more     appears 1 time.\n",
    ">>>\n",
    "\"\"\""
   ]
  },
  {
   "cell_type": "code",
   "execution_count": 12,
   "metadata": {},
   "outputs": [],
   "source": [
    "def wordcount(text):\n",
    "    counters = {}\n",
    "    words = text.split(' ')\n",
    "    for item in words:\n",
    "        if item in counters:\n",
    "            counters[item] += 1\n",
    "        else:\n",
    "            counters[item] =1\n",
    "            \n",
    "    for item in counters:\n",
    "        if counters[item] == 1:\n",
    "            print('{}\\tappears {} time'. format(item, counters[item]))\n",
    "        else:\n",
    "            print('{}\\tappears {} times'. format(item, counters[item]))"
   ]
  },
  {
   "cell_type": "code",
   "execution_count": 13,
   "metadata": {},
   "outputs": [
    {
     "name": "stdout",
     "output_type": "stream",
     "text": [
      "all\tappears 1 time\n",
      "animals\tappears 2 times\n",
      "are\tappears 2 times\n",
      "equal\tappears 2 times\n",
      "but\tappears 1 time\n",
      "some\tappears 1 time\n",
      "more\tappears 1 time\n",
      "than\tappears 1 time\n",
      "other\tappears 1 time\n"
     ]
    }
   ],
   "source": [
    "text = 'all animals are equal but some animals are more equal than other'\n",
    "wordcount(text)"
   ]
  },
  {
   "cell_type": "code",
   "execution_count": 16,
   "metadata": {},
   "outputs": [],
   "source": [
    "\"\"\"Implement function lookup() that \n",
    "implements a phone book lookup application. \n",
    "Your function takes, as input, a dictionary representing a phone book,\n",
    "mapping tuples (containing the first and last name) \n",
    "to strings (containing phone numbers) \n",
    "\n",
    ">>> phonebook = {\n",
    "\t('Anna','Karenina'):'(123)456-78-90',\n",
    "\t('Yu', 'Tsun'):'(901)234-56-78',\n",
    "\t('Hans', 'Castorp'):'(321)908-76-54'}\n",
    ">>> lookup(phonebook)\n",
    "Enter the first name: Anna\n",
    "Enter the last name: Karenina\n",
    "(123)456-78-90\n",
    "Enter the first name: \n",
    "\n",
    "\"\"\"\n",
    "phonebook = {\n",
    "    ('Anna','Karenina'):'(123)456-78-90',\n",
    "    ('Yu', 'Tsun'):'(901)234-56-78',\n",
    "    ('Hans', 'Castorp'):'(321)908-76-54'}"
   ]
  },
  {
   "cell_type": "code",
   "execution_count": 23,
   "metadata": {},
   "outputs": [],
   "source": [
    "def lookup(phonebook):\n",
    "    first_name = input('Enter the first name: ')\n",
    "    last_name = input('Enter the last name: ')\n",
    "    name = (first_name, last_name)\n",
    "    \n",
    "    if name in phonebook:\n",
    "        print(phonebook[name])\n",
    "    else:\n",
    "        print('no result found')"
   ]
  },
  {
   "cell_type": "code",
   "execution_count": 24,
   "metadata": {},
   "outputs": [
    {
     "name": "stdout",
     "output_type": "stream",
     "text": [
      "Enter the first name: Yu\n",
      "Enter the last name: Tsun\n",
      "{('Anna', 'Karenina'): '(123)456-78-90', ('Yu', 'Tsun'): '(901)234-56-78', ('Hans', 'Castorp'): '(321)908-76-54'}\n"
     ]
    }
   ],
   "source": [
    "lookup(phonebook)"
   ]
  },
  {
   "cell_type": "markdown",
   "metadata": {},
   "source": [
    "# ASCII and Unicode\n",
    "\n",
    "A string (str) object contains an ordered sequence of characters which can be any of the following:\n",
    "lowercase and uppercase letters in the English alphabet:         a b c … z and A B C … Z\n",
    "decimal digits: 0 1 2 3 4 5 6 7 8 9\n",
    "punctuation: , . : ; ‘ “ ! ? etc.\n",
    "Mathematical operators and common symbols: = < > + - / * $ # % @ & etc.\n",
    "More later \n",
    "\n",
    "Each character is mapped to a specific bit encoding,\n",
    "and this encoding maps back to the character.\n",
    "\n",
    "For many years, the standard encoding for characters in the English language was the American Standard Code for Information Interchange (ASCII)\n"
   ]
  },
  {
   "cell_type": "code",
   "execution_count": 25,
   "metadata": {},
   "outputs": [
    {
     "name": "stdout",
     "output_type": "stream",
     "text": [
      "97\n",
      "63\n",
      "10\n",
      "\n",
      "\n",
      "?\n",
      "a\n"
     ]
    }
   ],
   "source": [
    "#ASCII code\n",
    "\n",
    "print(ord('a')) # 97\n",
    "print(ord('?')) # 63\n",
    "print(ord('\\n')) # 10\n",
    "print(chr(10))  #'\\n'\n",
    "print(chr(63)) # '?'\n",
    "print(chr(97)) #'a'"
   ]
  },
  {
   "cell_type": "code",
   "execution_count": 26,
   "metadata": {},
   "outputs": [
    {
     "ename": "SyntaxError",
     "evalue": "Missing parentheses in call to 'print'. Did you mean print(string.printable)? (<ipython-input-26-37c63e75e93b>, line 2)",
     "output_type": "error",
     "traceback": [
      "\u001b[0;36m  File \u001b[0;32m\"<ipython-input-26-37c63e75e93b>\"\u001b[0;36m, line \u001b[0;32m2\u001b[0m\n\u001b[0;31m    print string.printable\u001b[0m\n\u001b[0m               ^\u001b[0m\n\u001b[0;31mSyntaxError\u001b[0m\u001b[0;31m:\u001b[0m Missing parentheses in call to 'print'. Did you mean print(string.printable)?\n"
     ]
    }
   ],
   "source": [
    "import string\n",
    "print string.printable"
   ]
  },
  {
   "cell_type": "code",
   "execution_count": 27,
   "metadata": {},
   "outputs": [
    {
     "name": "stdout",
     "output_type": "stream",
     "text": [
      "char 0 = code 48\n",
      "char 1 = code 49\n",
      "char 2 = code 50\n",
      "char 3 = code 51\n",
      "char 4 = code 52\n",
      "char 5 = code 53\n",
      "char 6 = code 54\n",
      "char 7 = code 55\n",
      "char 8 = code 56\n",
      "char 9 = code 57\n",
      "char a = code 97\n",
      "char b = code 98\n",
      "char c = code 99\n",
      "char d = code 100\n",
      "char e = code 101\n",
      "char f = code 102\n",
      "char g = code 103\n",
      "char h = code 104\n",
      "char i = code 105\n",
      "char j = code 106\n",
      "char k = code 107\n",
      "char l = code 108\n",
      "char m = code 109\n",
      "char n = code 110\n",
      "char o = code 111\n",
      "char p = code 112\n",
      "char q = code 113\n",
      "char r = code 114\n",
      "char s = code 115\n",
      "char t = code 116\n",
      "char u = code 117\n",
      "char v = code 118\n",
      "char w = code 119\n",
      "char x = code 120\n",
      "char y = code 121\n",
      "char z = code 122\n",
      "char A = code 65\n",
      "char B = code 66\n",
      "char C = code 67\n",
      "char D = code 68\n",
      "char E = code 69\n",
      "char F = code 70\n",
      "char G = code 71\n",
      "char H = code 72\n",
      "char I = code 73\n",
      "char J = code 74\n",
      "char K = code 75\n",
      "char L = code 76\n",
      "char M = code 77\n",
      "char N = code 78\n",
      "char O = code 79\n",
      "char P = code 80\n",
      "char Q = code 81\n",
      "char R = code 82\n",
      "char S = code 83\n",
      "char T = code 84\n",
      "char U = code 85\n",
      "char V = code 86\n",
      "char W = code 87\n",
      "char X = code 88\n",
      "char Y = code 89\n",
      "char Z = code 90\n",
      "char ! = code 33\n",
      "char \" = code 34\n",
      "char # = code 35\n",
      "char $ = code 36\n",
      "char % = code 37\n",
      "char & = code 38\n",
      "char ' = code 39\n",
      "char ( = code 40\n",
      "char ) = code 41\n",
      "char * = code 42\n",
      "char + = code 43\n",
      "char , = code 44\n",
      "char - = code 45\n",
      "char . = code 46\n",
      "char / = code 47\n",
      "char : = code 58\n",
      "char ; = code 59\n",
      "char < = code 60\n",
      "char = = code 61\n",
      "char > = code 62\n",
      "char ? = code 63\n",
      "char @ = code 64\n",
      "char [ = code 91\n",
      "char \\ = code 92\n",
      "char ] = code 93\n",
      "char ^ = code 94\n",
      "char _ = code 95\n",
      "char ` = code 96\n",
      "char { = code 123\n",
      "char | = code 124\n",
      "char } = code 125\n",
      "char ~ = code 126\n",
      "char   = code 32\n",
      "char \t = code 9\n",
      "char \n",
      " = code 10\n",
      "char \r",
      " = code 13\n",
      "char \u000b",
      " = code 11\n",
      "char \f",
      " = code 12\n",
      "\n"
     ]
    }
   ],
   "source": [
    "import string\n",
    "\n",
    "#print(string.printable)\n",
    "\n",
    "for char in string.printable:\n",
    "    print('char {} = code {}'.format(char, ord(char))) #, end=' ')\n",
    "print()"
   ]
  },
  {
   "cell_type": "code",
   "execution_count": 28,
   "metadata": {},
   "outputs": [
    {
     "name": "stdout",
     "output_type": "stream",
     "text": [
      "code 32 = char  \n",
      "code 33 = char !\n",
      "code 34 = char \"\n",
      "code 35 = char #\n",
      "code 36 = char $\n",
      "code 37 = char %\n",
      "code 38 = char &\n",
      "code 39 = char '\n",
      "code 40 = char (\n",
      "code 41 = char )\n",
      "code 42 = char *\n",
      "code 43 = char +\n",
      "code 44 = char ,\n",
      "code 45 = char -\n",
      "code 46 = char .\n",
      "code 47 = char /\n",
      "code 48 = char 0\n",
      "code 49 = char 1\n",
      "code 50 = char 2\n",
      "code 51 = char 3\n",
      "code 52 = char 4\n",
      "code 53 = char 5\n",
      "code 54 = char 6\n",
      "code 55 = char 7\n",
      "code 56 = char 8\n",
      "code 57 = char 9\n",
      "code 58 = char :\n",
      "code 59 = char ;\n",
      "code 60 = char <\n",
      "code 61 = char =\n",
      "code 62 = char >\n",
      "code 63 = char ?\n",
      "code 64 = char @\n",
      "code 65 = char A\n",
      "code 66 = char B\n",
      "code 67 = char C\n",
      "code 68 = char D\n",
      "code 69 = char E\n",
      "code 70 = char F\n",
      "code 71 = char G\n",
      "code 72 = char H\n",
      "code 73 = char I\n",
      "code 74 = char J\n",
      "code 75 = char K\n",
      "code 76 = char L\n",
      "code 77 = char M\n",
      "code 78 = char N\n",
      "code 79 = char O\n",
      "code 80 = char P\n",
      "code 81 = char Q\n",
      "code 82 = char R\n",
      "code 83 = char S\n",
      "code 84 = char T\n",
      "code 85 = char U\n",
      "code 86 = char V\n",
      "code 87 = char W\n",
      "code 88 = char X\n",
      "code 89 = char Y\n",
      "code 90 = char Z\n",
      "code 91 = char [\n",
      "code 92 = char \\\n",
      "code 93 = char ]\n",
      "code 94 = char ^\n",
      "code 95 = char _\n",
      "code 96 = char `\n",
      "code 97 = char a\n",
      "code 98 = char b\n",
      "code 99 = char c\n",
      "code 100 = char d\n",
      "code 101 = char e\n",
      "code 102 = char f\n",
      "code 103 = char g\n",
      "code 104 = char h\n",
      "code 105 = char i\n",
      "code 106 = char j\n",
      "code 107 = char k\n",
      "code 108 = char l\n",
      "code 109 = char m\n",
      "code 110 = char n\n",
      "code 111 = char o\n",
      "code 112 = char p\n",
      "code 113 = char q\n",
      "code 114 = char r\n",
      "code 115 = char s\n",
      "code 116 = char t\n",
      "code 117 = char u\n",
      "code 118 = char v\n",
      "code 119 = char w\n",
      "code 120 = char x\n",
      "code 121 = char y\n",
      "code 122 = char z\n",
      "code 123 = char {\n",
      "code 124 = char |\n",
      "code 125 = char }\n",
      "code 126 = char ~\n",
      "code 127 = char \n"
     ]
    }
   ],
   "source": [
    "for i in range(32, 128):\n",
    "    print('code {} = char {}'.format(i, chr(i))) #, end=' ')"
   ]
  },
  {
   "cell_type": "markdown",
   "metadata": {},
   "source": [
    "# Unicode\n",
    "\n",
    "\n",
    "A string object contains an ordered sequence of characters which can be any of the following:\n",
    "lowercase and uppercase letters in the English alphabet:         a b c … z and A B C … Z\n",
    "decimal digits: 0 1 2 3 4 5 6 7 8 9\n",
    "punctuation: , . : ; ‘ “ ! ? etc.\n",
    "Mathematical operators and common symbols: = < > + - / * $ # % @ & etc.\n",
    "Characters from languages other than English\n",
    "Technical symbols from math, science, engineering, etc.\n",
    "\n",
    "There are only 128 characters in the ASCII encoding \n",
    "\n",
    "Unicode has been developed to be the universal character encoding scheme\n",
    "\n",
    "\n",
    "In Unicode, every character is represented by an integer code point. \n",
    "\n",
    "The code point is not necessarily the actual byte representation of the character; it is just the identifier for the particular character\n"
   ]
  },
  {
   "cell_type": "markdown",
   "metadata": {},
   "source": [
    "# Emoji\n",
    "\n",
    "Cheat Sheet\n",
    "http://www.webpagefx.com/tools/emoji-cheat-sheet/\n",
    "\n",
    "Emoji List\n",
    "http://www.unicode.org/emoji/charts/full-emoji-list.html\n",
    "\n",
    "Emoji Tracker\n",
    "http://emojitracker.com/"
   ]
  },
  {
   "cell_type": "code",
   "execution_count": 30,
   "metadata": {},
   "outputs": [
    {
     "ename": "ModuleNotFoundError",
     "evalue": "No module named 'emoji'",
     "output_type": "error",
     "traceback": [
      "\u001b[0;31m---------------------------------------------------------------------------\u001b[0m",
      "\u001b[0;31mModuleNotFoundError\u001b[0m                       Traceback (most recent call last)",
      "\u001b[0;32m<ipython-input-30-8efa5aaed04f>\u001b[0m in \u001b[0;36m<module>\u001b[0;34m\u001b[0m\n\u001b[1;32m      1\u001b[0m \u001b[0;31m# Emoji\u001b[0m\u001b[0;34m\u001b[0m\u001b[0;34m\u001b[0m\u001b[0;34m\u001b[0m\u001b[0m\n\u001b[1;32m      2\u001b[0m \u001b[0;34m\u001b[0m\u001b[0m\n\u001b[0;32m----> 3\u001b[0;31m \u001b[0;32mimport\u001b[0m \u001b[0memoji\u001b[0m\u001b[0;34m\u001b[0m\u001b[0;34m\u001b[0m\u001b[0m\n\u001b[0m\u001b[1;32m      4\u001b[0m \u001b[0mprint\u001b[0m\u001b[0;34m(\u001b[0m\u001b[0memoji\u001b[0m\u001b[0;34m.\u001b[0m\u001b[0memojize\u001b[0m\u001b[0;34m(\u001b[0m\u001b[0;34m'Python is :thumbs_up:'\u001b[0m\u001b[0;34m)\u001b[0m\u001b[0;34m)\u001b[0m\u001b[0;34m\u001b[0m\u001b[0;34m\u001b[0m\u001b[0m\n\u001b[1;32m      5\u001b[0m \u001b[0mprint\u001b[0m\u001b[0;34m(\u001b[0m\u001b[0memoji\u001b[0m\u001b[0;34m.\u001b[0m\u001b[0memojize\u001b[0m\u001b[0;34m(\u001b[0m\u001b[0;34m'Python is :cookie:'\u001b[0m\u001b[0;34m)\u001b[0m\u001b[0;34m)\u001b[0m\u001b[0;34m\u001b[0m\u001b[0;34m\u001b[0m\u001b[0m\n",
      "\u001b[0;31mModuleNotFoundError\u001b[0m: No module named 'emoji'"
     ]
    }
   ],
   "source": [
    "# Emoji\n",
    "\n",
    "import emoji\n",
    "print(emoji.emojize('Python is :thumbs_up:'))\n",
    "print(emoji.emojize('Python is :cookie:'))\n",
    "print(emoji.emojize(':rabbit:'))\n",
    "\n",
    "for i in range(10):\n",
    "    print(emoji.emojize(':dog:')*i + emoji.emojize(':cat:')*(10-i))"
   ]
  },
  {
   "cell_type": "markdown",
   "metadata": {},
   "source": [
    "# random module"
   ]
  },
  {
   "cell_type": "code",
   "execution_count": null,
   "metadata": {
    "collapsed": true
   },
   "outputs": [],
   "source": [
    "'''Develop function game() that:\n",
    "takes integers r and c as input,\n",
    "generates a field of r rows and c columns with a bomb at a randomly chosen row and column,\n",
    "and then asks users to find the bomb \n",
    "\n",
    ">>> game(2, 3)\n",
    "Enter next position (format: x y): 0 2\n",
    "No bomb at position 0 2 \n",
    "Enter next position (format: x y): 1 1\n",
    "No bomb at position 1 1 \n",
    "Enter next position (format: x y): 0 1\n",
    "You found the bomb!\n",
    "\n",
    "'''"
   ]
  },
  {
   "cell_type": "code",
   "execution_count": 39,
   "metadata": {},
   "outputs": [],
   "source": [
    "import random\n",
    "def game(r,c):\n",
    "    br = random.randrange(0,r)\n",
    "    bc = random.randrange(0,c)\n",
    "    while True:\n",
    "        loc = input('Enter the next posotion (format: x y):')\n",
    "        if loc.split()==[str(br),str(bc)]:\n",
    "            print('You found the bomb!')\n",
    "            break\n",
    "        else:\n",
    "            print('No bomb at position {}'.format(loc))\n",
    "\n",
    "    "
   ]
  },
  {
   "cell_type": "code",
   "execution_count": null,
   "metadata": {},
   "outputs": [
    {
     "name": "stdout",
     "output_type": "stream",
     "text": [
      "Enter the next posotion (format: x y):3,5\n",
      "No bomb at position 3,5\n",
      "Enter the next posotion (format: x y):2,4\n",
      "No bomb at position 2,4\n",
      "Enter the next posotion (format: x y):2 4\n",
      "No bomb at position 2 4\n",
      "Enter the next posotion (format: x y):5 5\n",
      "No bomb at position 5 5\n",
      "Enter the next posotion (format: x y):3 5\n",
      "No bomb at position 3 5\n"
     ]
    }
   ],
   "source": [
    "game(3,5)"
   ]
  },
  {
   "cell_type": "code",
   "execution_count": null,
   "metadata": {},
   "outputs": [],
   "source": []
  }
 ],
 "metadata": {
  "anaconda-cloud": {},
  "kernelspec": {
   "display_name": "Python 3",
   "language": "python",
   "name": "python3"
  },
  "language_info": {
   "codemirror_mode": {
    "name": "ipython",
    "version": 3
   },
   "file_extension": ".py",
   "mimetype": "text/x-python",
   "name": "python",
   "nbconvert_exporter": "python",
   "pygments_lexer": "ipython3",
   "version": "3.7.1"
  }
 },
 "nbformat": 4,
 "nbformat_minor": 1
}
