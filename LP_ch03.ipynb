{
 "cells": [
  {
   "cell_type": "markdown",
   "metadata": {},
   "source": [
    "# use raw_input() and eval()"
   ]
  },
  {
   "cell_type": "code",
   "execution_count": 1,
   "metadata": {},
   "outputs": [],
   "source": [
    "'''\n",
    "Write a program that:\u000b",
    "\n",
    "Requests the user’s name\n",
    "Requests the user’s age\n",
    "Computes the user’s age one year from now and prints the message\n",
    "\n",
    ">>> \n",
    "Enter your name: Marie\n",
    "Enter your age: 17\n",
    "Marie, you will be 18 next year!\n",
    "\n",
    "'''\n",
    "# in Python 2, we use raw_input()\n",
    "# in Python 3, we use input()\n"
   ]
  },
  {
   "cell_type": "code",
   "execution_count": 4,
   "metadata": {},
   "outputs": [
    {
     "name": "stdout",
     "output_type": "stream",
     "text": [
      "Enter your nameRio\n",
      "Enter your age25\n",
      "Rio, you will be 26 next year!\n"
     ]
    }
   ],
   "source": [
    "name = input('Enter your name')\n",
    "age = input('Enter your age')\n",
    "newage = eval(age) + 1\n",
    "print(name + ', you will be ' + str(newage) + ' next year!')"
   ]
  },
  {
   "cell_type": "markdown",
   "metadata": {
    "collapsed": true
   },
   "source": [
    "# Write corresponding if statements:"
   ]
  },
  {
   "cell_type": "code",
   "execution_count": 10,
   "metadata": {
    "scrolled": true
   },
   "outputs": [
    {
     "name": "stdout",
     "output_type": "stream",
     "text": [
      "Enter your age25\n",
      "You are still young\n"
     ]
    }
   ],
   "source": [
    "# a) If age is greater than 62 then print 'You can get Social Security benefits’\n",
    "age = input('Enter your age')\n",
    "if eval(age) > 62:\n",
    "    print('You can get Social Security benefits')\n",
    "else:\n",
    "    print('You are still young')"
   ]
  },
  {
   "cell_type": "code",
   "execution_count": 11,
   "metadata": {},
   "outputs": [
    {
     "name": "stdout",
     "output_type": "stream",
     "text": [
      "Vacation time!\n"
     ]
    }
   ],
   "source": [
    "# b) If string 'large bonuses' appears in string report then print 'Vacation time!’\n",
    "report = 'large bonuses this year'\n",
    "if 'large bonuses' in report:\n",
    "    print('Vacation time!')"
   ]
  },
  {
   "cell_type": "code",
   "execution_count": 12,
   "metadata": {},
   "outputs": [
    {
     "name": "stdout",
     "output_type": "stream",
     "text": [
      "You're dead\n"
     ]
    }
   ],
   "source": [
    "# c) If hits is greater than 10 and shield is 0 then print \"You're dead...\n",
    "hits = 12\n",
    "shield = 0\n",
    "if hits > 10 and shield == 0:\n",
    "    print(\"You're dead\")"
   ]
  },
  {
   "cell_type": "markdown",
   "metadata": {},
   "source": [
    "# Two-way if statement"
   ]
  },
  {
   "cell_type": "code",
   "execution_count": null,
   "metadata": {
    "collapsed": true
   },
   "outputs": [],
   "source": [
    "'''\n",
    "Write a program that:\u000b",
    "\n",
    "Requests the user’s name\n",
    "Requests the user’s age\n",
    "Prints a message saying whether the user is eligible to vote or not\n",
    "\n",
    ">>> \n",
    "Enter your name: Marie\n",
    "Enter your age: 17\n",
    "Marie, you can't vote.\n",
    ">>> ============RESTART================\n",
    ">>> \n",
    "Enter your name: Marie\n",
    "Enter your age: 18\n",
    "Marie, you can vote.\n",
    ">>> \n",
    "\n",
    "'''"
   ]
  },
  {
   "cell_type": "code",
   "execution_count": 15,
   "metadata": {},
   "outputs": [
    {
     "name": "stdout",
     "output_type": "stream",
     "text": [
      "Enter your nameRio\n",
      "Enter your age17\n",
      "Rio, you can't vote.\n"
     ]
    }
   ],
   "source": [
    "name = input('Enter your name')\n",
    "age = eval(input('Enter your age'))\n",
    "\n",
    "if age < 18:\n",
    "    print(name + \", you can't vote.\")\n",
    "else:\n",
    "    print(name + ', you can vote.')"
   ]
  },
  {
   "cell_type": "markdown",
   "metadata": {},
   "source": [
    "# for loop"
   ]
  },
  {
   "cell_type": "code",
   "execution_count": null,
   "metadata": {
    "collapsed": true
   },
   "outputs": [],
   "source": [
    "'''Write a “spelling” program that:\n",
    "1. Requests a word from the user\n",
    "2. Prints the characters in the word from left to right, one per line\n",
    "\n",
    ">>> \n",
    "Enter a word: omnipotent\n",
    "The word spelled out: \n",
    "o\n",
    "m\n",
    "n\n",
    "i\n",
    "p\n",
    "o\n",
    "t\n",
    "e\n",
    "n\n",
    "t\n",
    "\n",
    "'''"
   ]
  },
  {
   "cell_type": "code",
   "execution_count": 32,
   "metadata": {},
   "outputs": [
    {
     "name": "stdout",
     "output_type": "stream",
     "text": [
      "o\n",
      "m\n",
      "n\n",
      "i\n",
      "p\n",
      "o\n",
      "t\n",
      "e\n",
      "n\n",
      "t\n"
     ]
    }
   ],
   "source": [
    "word = 'omnipotent'\n",
    "idx = 0\n",
    "\n",
    "for idx in range(0,10):\n",
    "    print(word[idx])\n",
    "   "
   ]
  },
  {
   "cell_type": "code",
   "execution_count": 33,
   "metadata": {},
   "outputs": [
    {
     "name": "stdout",
     "output_type": "stream",
     "text": [
      "o\n",
      "m\n",
      "n\n",
      "i\n",
      "p\n",
      "o\n",
      "t\n",
      "e\n",
      "n\n",
      "t\n"
     ]
    }
   ],
   "source": [
    "word = 'omnipotent'\n",
    "for char in word:\n",
    "    print(char)"
   ]
  },
  {
   "cell_type": "markdown",
   "metadata": {},
   "source": [
    "# Using range() function, write for loops that will print the following sequences:"
   ]
  },
  {
   "cell_type": "code",
   "execution_count": 43,
   "metadata": {},
   "outputs": [
    {
     "name": "stdout",
     "output_type": "stream",
     "text": [
      "0\n",
      "1\n",
      "2\n",
      "3\n",
      "4\n",
      "5\n",
      "6\n",
      "7\n",
      "8\n",
      "9\n",
      "10\n"
     ]
    }
   ],
   "source": [
    "# 0, 1, 2, 3, 4, 5, 6, 7, 8 , 9, 10\n",
    "list = [0, 1, 2, 3, 4, 5, 6, 7, 8 , 9, 10]\n",
    "for i in range(11):\n",
    "    print(list[i])"
   ]
  },
  {
   "cell_type": "code",
   "execution_count": 35,
   "metadata": {},
   "outputs": [
    {
     "name": "stdout",
     "output_type": "stream",
     "text": [
      "1\n",
      "2\n",
      "3\n",
      "4\n",
      "5\n",
      "6\n",
      "7\n",
      "8\n",
      "9\n"
     ]
    }
   ],
   "source": [
    "# 1, 2, 3, 4, 5, 6, 7, 8, 9\n",
    "for i in range(1,10):\n",
    "    print(list[i])"
   ]
  },
  {
   "cell_type": "code",
   "execution_count": 37,
   "metadata": {},
   "outputs": [
    {
     "name": "stdout",
     "output_type": "stream",
     "text": [
      "0\n",
      "2\n",
      "4\n",
      "6\n",
      "8\n"
     ]
    }
   ],
   "source": [
    "# 0, 2, 4, 6, 8\n",
    "for i in range(0, 9,2):\n",
    "    print(list[i])"
   ]
  },
  {
   "cell_type": "code",
   "execution_count": 38,
   "metadata": {},
   "outputs": [
    {
     "name": "stdout",
     "output_type": "stream",
     "text": [
      "1\n",
      "3\n",
      "5\n",
      "7\n",
      "9\n"
     ]
    }
   ],
   "source": [
    "# 1, 3, 5, 7, 9\n",
    "for i in range(1,10,2):\n",
    "    print(list[i])"
   ]
  },
  {
   "cell_type": "code",
   "execution_count": null,
   "metadata": {
    "collapsed": true
   },
   "outputs": [],
   "source": [
    "# 20, 30, 40, 50, 60\n",
    "range(20, 61, 10)"
   ]
  },
  {
   "cell_type": "markdown",
   "metadata": {},
   "source": [
    "# Writing function"
   ]
  },
  {
   "cell_type": "code",
   "execution_count": null,
   "metadata": {
    "collapsed": true
   },
   "outputs": [],
   "source": [
    "'''Write function hello() that:\n",
    "takes a name (i.e., a string) as input\n",
    "prints a personalized welcome message\n",
    "Note that the function does not return anything\n",
    "\n",
    ">>> hello('Julie')\n",
    "Welcome, Julie, to the world of Python.\n",
    ">>> \n",
    "\n",
    "'''"
   ]
  },
  {
   "cell_type": "code",
   "execution_count": 47,
   "metadata": {},
   "outputs": [
    {
     "name": "stdout",
     "output_type": "stream",
     "text": [
      "Welcome, Rio, to the world of Python.\n"
     ]
    }
   ],
   "source": [
    "\n",
    "def hello(name):\n",
    "    msg = 'Welcome, ' + name + ', to the world of Python.'\n",
    "    print(msg)\n",
    "\n",
    "hello('Rio')"
   ]
  },
  {
   "cell_type": "code",
   "execution_count": null,
   "metadata": {
    "collapsed": true
   },
   "outputs": [],
   "source": [
    "'''Write function rng() that:\n",
    "takes a list of numbers as input\n",
    "returns the range of the numbers in the list\n",
    "The range is the difference between the largest and smallest number in the list\n",
    "\n",
    ">>> rng([4, 0, 1, -2])\n",
    "6\n",
    ">>>\n",
    "\n",
    "'''"
   ]
  },
  {
   "cell_type": "code",
   "execution_count": 51,
   "metadata": {},
   "outputs": [
    {
     "data": {
      "text/plain": [
       "6"
      ]
     },
     "execution_count": 51,
     "metadata": {},
     "output_type": "execute_result"
    }
   ],
   "source": [
    "def rng(list):\n",
    "    diff = max(list) - min(list)\n",
    "    return diff\n",
    "\n",
    "rng([4, 0, 1, -2])"
   ]
  },
  {
   "cell_type": "markdown",
   "metadata": {},
   "source": [
    "# Swap"
   ]
  },
  {
   "cell_type": "code",
   "execution_count": null,
   "metadata": {
    "collapsed": true
   },
   "outputs": [],
   "source": [
    "'''Write function swapFS() that:\n",
    "takes a list as input\n",
    "swaps the first and second element of the list, but only if the list has at least two elements\n",
    "The function does not return anything\n",
    "'''"
   ]
  },
  {
   "cell_type": "code",
   "execution_count": 52,
   "metadata": {},
   "outputs": [
    {
     "data": {
      "text/plain": [
       "4"
      ]
     },
     "execution_count": 52,
     "metadata": {},
     "output_type": "execute_result"
    }
   ],
   "source": [
    "list = [4, 0, 1, -2]\n",
    "len(list)"
   ]
  },
  {
   "cell_type": "code",
   "execution_count": 54,
   "metadata": {},
   "outputs": [
    {
     "name": "stdout",
     "output_type": "stream",
     "text": [
      "[0, 100, 2, 3, 4, 5]\n",
      "[100, 0, 2, 3, 4, 5]\n"
     ]
    }
   ],
   "source": [
    "def swapFS(list):\n",
    "    if len(list) >=2:\n",
    "        list[0],list[1] = list[1],list[0]\n",
    "\n",
    "my_list = [0, 100, 2, 3, 4, 5]\n",
    "print(my_list)\n",
    "swapFS(my_list)\n",
    "print(my_list)\n",
    "    "
   ]
  }
 ],
 "metadata": {
  "anaconda-cloud": {},
  "kernelspec": {
   "display_name": "Python 3",
   "language": "python",
   "name": "python3"
  },
  "language_info": {
   "codemirror_mode": {
    "name": "ipython",
    "version": 3
   },
   "file_extension": ".py",
   "mimetype": "text/x-python",
   "name": "python",
   "nbconvert_exporter": "python",
   "pygments_lexer": "ipython3",
   "version": "3.7.1"
  }
 },
 "nbformat": 4,
 "nbformat_minor": 1
}
