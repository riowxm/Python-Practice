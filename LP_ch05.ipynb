{
 "cells": [
  {
   "cell_type": "markdown",
   "metadata": {},
   "source": [
    "# multi-way if statement"
   ]
  },
  {
   "cell_type": "code",
   "execution_count": 6,
   "metadata": {},
   "outputs": [
    {
     "data": {
      "text/plain": [
       "'Write function BMI() that:\\ntakes as input a person’s height (in inches) and weight (in pounds)\\ncomputes the person’s BMI and prints an assessment, as shown below\\n\\n>>> BMI(190, 75)\\nNormal\\n>>> BMI(140, 75)\\nUnderweight\\n>>> BMI(240, 75)\\nOverweight\\n\\nThe function does not return anything.\\n\\nThe Body Mass Index is the value (weight * 703)/height2 . \\nIndexes below 18.5 or above 25.0 are assessed as underweight and overweight, respectively; \\nindexes in between are considered normal. \\n'"
      ]
     },
     "execution_count": 6,
     "metadata": {},
     "output_type": "execute_result"
    }
   ],
   "source": [
    "'''Write function BMI() that:\n",
    "takes as input a person’s height (in inches) and weight (in pounds)\n",
    "computes the person’s BMI and prints an assessment, as shown below\n",
    "\n",
    ">>> BMI(190, 75)\n",
    "Normal\n",
    ">>> BMI(140, 75)\n",
    "Underweight\n",
    ">>> BMI(240, 75)\n",
    "Overweight\n",
    "\n",
    "The function does not return anything.\n",
    "\n",
    "The Body Mass Index is the value (weight * 703)/height2 . \n",
    "Indexes below 18.5 or above 25.0 are assessed as underweight and overweight, respectively; \n",
    "indexes in between are considered normal. \n",
    "'''"
   ]
  },
  {
   "cell_type": "code",
   "execution_count": 1,
   "metadata": {},
   "outputs": [],
   "source": [
    "def BMI(weight, height):\n",
    "    BMI = (weight * 703)/(height)**2\n",
    "    if 18.5<= BMI <= 25:\n",
    "        return 'normal'\n",
    "    elif BMI <18.5:\n",
    "        return 'underweight'\n",
    "    else: \n",
    "        return 'overweight'"
   ]
  },
  {
   "cell_type": "markdown",
   "metadata": {},
   "source": [
    "# Loop pattern: Iteration vs. Counter"
   ]
  },
  {
   "cell_type": "code",
   "execution_count": 2,
   "metadata": {},
   "outputs": [
    {
     "data": {
      "text/plain": [
       "'overweight'"
      ]
     },
     "execution_count": 2,
     "metadata": {},
     "output_type": "execute_result"
    }
   ],
   "source": [
    "BMI(240,75)"
   ]
  },
  {
   "cell_type": "code",
   "execution_count": 3,
   "metadata": {},
   "outputs": [
    {
     "data": {
      "text/plain": [
       "'underweight'"
      ]
     },
     "execution_count": 3,
     "metadata": {},
     "output_type": "execute_result"
    }
   ],
   "source": [
    " BMI(140, 75)"
   ]
  },
  {
   "cell_type": "code",
   "execution_count": 4,
   "metadata": {},
   "outputs": [
    {
     "data": {
      "text/plain": [
       "'normal'"
      ]
     },
     "execution_count": 4,
     "metadata": {},
     "output_type": "execute_result"
    }
   ],
   "source": [
    " BMI(190, 75)"
   ]
  },
  {
   "cell_type": "code",
   "execution_count": null,
   "metadata": {
    "collapsed": true
   },
   "outputs": [],
   "source": [
    "'''Write function arithmetic() that:\n",
    "takes as input a list of numbers\n",
    "returns True if the numbers in the list form an arithmetic sequence, False otherwise\n",
    "\n",
    ">>> arithmetic([3, 6, 9, 12, 15]) \n",
    "True\n",
    ">>> arithmetic([3, 6, 9, 11, 14]) \n",
    "False\n",
    ">>> arithmetic([3])\n",
    "True\n",
    "\n",
    "'''"
   ]
  },
  {
   "cell_type": "code",
   "execution_count": 26,
   "metadata": {},
   "outputs": [],
   "source": [
    "def arithmetic(list):\n",
    "    if len(list) < 2:\n",
    "        return True\n",
    "    \n",
    "    diff = list[1]-list[0]\n",
    "    for i in range(0, len(list)-1):\n",
    "        if list[i+1] - list[i] != diff:\n",
    "            return False\n",
    "    return True"
   ]
  },
  {
   "cell_type": "code",
   "execution_count": 23,
   "metadata": {},
   "outputs": [
    {
     "data": {
      "text/plain": [
       "True"
      ]
     },
     "execution_count": 23,
     "metadata": {},
     "output_type": "execute_result"
    }
   ],
   "source": [
    "arithmetic([3, 6, 9, 12, 15]) "
   ]
  },
  {
   "cell_type": "code",
   "execution_count": 24,
   "metadata": {},
   "outputs": [
    {
     "data": {
      "text/plain": [
       "False"
      ]
     },
     "execution_count": 24,
     "metadata": {},
     "output_type": "execute_result"
    }
   ],
   "source": [
    "arithmetic([3, 6, 9, 11, 14]) "
   ]
  },
  {
   "cell_type": "code",
   "execution_count": 27,
   "metadata": {},
   "outputs": [
    {
     "data": {
      "text/plain": [
       "True"
      ]
     },
     "execution_count": 27,
     "metadata": {},
     "output_type": "execute_result"
    }
   ],
   "source": [
    "arithmetic([3])"
   ]
  },
  {
   "cell_type": "markdown",
   "metadata": {},
   "source": [
    "# Accumulator loop pattern"
   ]
  },
  {
   "cell_type": "code",
   "execution_count": null,
   "metadata": {
    "collapsed": true
   },
   "outputs": [],
   "source": [
    "'''Write function factorial() that:\n",
    "takes a non-negative integer n as input\n",
    "returns n!\n",
    "\n",
    "n! = n x (n-1) x (n-2) x ... x 3 x 2 1\n",
    "0! = 1\n",
    "\n",
    ">>> factorial(0)\n",
    "1 \n",
    ">>> factorial(1)\n",
    "1\n",
    ">>> factorial(3)\n",
    "6\n",
    ">>> factorial(6)\n",
    "720\n",
    "\n",
    "'''"
   ]
  },
  {
   "cell_type": "code",
   "execution_count": 30,
   "metadata": {},
   "outputs": [],
   "source": [
    "def factorial(n):\n",
    "    res = 1\n",
    "    for i in range(1, n+1):\n",
    "        res *= i\n",
    "    return res"
   ]
  },
  {
   "cell_type": "code",
   "execution_count": 32,
   "metadata": {},
   "outputs": [
    {
     "data": {
      "text/plain": [
       "1"
      ]
     },
     "execution_count": 32,
     "metadata": {},
     "output_type": "execute_result"
    }
   ],
   "source": [
    "factorial(0)"
   ]
  },
  {
   "cell_type": "code",
   "execution_count": 33,
   "metadata": {},
   "outputs": [
    {
     "data": {
      "text/plain": [
       "1"
      ]
     },
     "execution_count": 33,
     "metadata": {},
     "output_type": "execute_result"
    }
   ],
   "source": [
    "factorial(1)"
   ]
  },
  {
   "cell_type": "code",
   "execution_count": 34,
   "metadata": {},
   "outputs": [
    {
     "data": {
      "text/plain": [
       "6"
      ]
     },
     "execution_count": 34,
     "metadata": {},
     "output_type": "execute_result"
    }
   ],
   "source": [
    "factorial(3)"
   ]
  },
  {
   "cell_type": "code",
   "execution_count": 35,
   "metadata": {},
   "outputs": [
    {
     "data": {
      "text/plain": [
       "720"
      ]
     },
     "execution_count": 35,
     "metadata": {},
     "output_type": "execute_result"
    }
   ],
   "source": [
    " factorial(6)"
   ]
  },
  {
   "cell_type": "code",
   "execution_count": null,
   "metadata": {
    "collapsed": true
   },
   "outputs": [],
   "source": [
    "'''Write function acronym() that:\n",
    "takes a phrase (i.e., a string) as input\n",
    "returns the acronym for the phrase\n",
    "\n",
    ">>> acronym('Random access memory')\n",
    "'RAM' \n",
    ">>> acronym(\"GNU's not UNIX\")\n",
    "'GNU'\n",
    "\n",
    "'''"
   ]
  },
  {
   "cell_type": "code",
   "execution_count": 65,
   "metadata": {},
   "outputs": [],
   "source": [
    "def acronym(phrase):\n",
    "    word = phrase.split(' ')\n",
    "    res = ''\n",
    "    for i in range(len(word)):\n",
    "        res += word[i][0].upper()\n",
    "    return res"
   ]
  },
  {
   "cell_type": "code",
   "execution_count": 66,
   "metadata": {},
   "outputs": [
    {
     "data": {
      "text/plain": [
       "'RAM'"
      ]
     },
     "execution_count": 66,
     "metadata": {},
     "output_type": "execute_result"
    }
   ],
   "source": [
    "acronym('Random access memory')"
   ]
  },
  {
   "cell_type": "code",
   "execution_count": 67,
   "metadata": {},
   "outputs": [
    {
     "data": {
      "text/plain": [
       "'GNU'"
      ]
     },
     "execution_count": 67,
     "metadata": {},
     "output_type": "execute_result"
    }
   ],
   "source": [
    "acronym(\"GNU's not UNIX\")"
   ]
  },
  {
   "cell_type": "code",
   "execution_count": null,
   "metadata": {
    "collapsed": true
   },
   "outputs": [],
   "source": [
    "'''Write function divisors() that:\n",
    "takes a positive integer n as input\n",
    "returns the list of positive divisors of n\n",
    "\n",
    ">>> divisors(1)\n",
    "[1]\n",
    ">>> divisors(6)\n",
    "[1, 2, 3, 6]\n",
    ">>> divisors(11)\n",
    "[1, 11]\n",
    "\n",
    "'''"
   ]
  },
  {
   "cell_type": "code",
   "execution_count": 68,
   "metadata": {},
   "outputs": [],
   "source": [
    "def divisors(n):\n",
    "    res = []\n",
    "    for i in range (1,n+1):\n",
    "         if n % i == 0:\n",
    "                res.append(i)\n",
    "    return res"
   ]
  },
  {
   "cell_type": "code",
   "execution_count": 69,
   "metadata": {},
   "outputs": [
    {
     "data": {
      "text/plain": [
       "[1]"
      ]
     },
     "execution_count": 69,
     "metadata": {},
     "output_type": "execute_result"
    }
   ],
   "source": [
    "divisors(1)"
   ]
  },
  {
   "cell_type": "code",
   "execution_count": 70,
   "metadata": {},
   "outputs": [
    {
     "data": {
      "text/plain": [
       "[1, 2, 3, 6]"
      ]
     },
     "execution_count": 70,
     "metadata": {},
     "output_type": "execute_result"
    }
   ],
   "source": [
    "divisors(6)"
   ]
  },
  {
   "cell_type": "code",
   "execution_count": 71,
   "metadata": {},
   "outputs": [
    {
     "data": {
      "text/plain": [
       "[1, 11]"
      ]
     },
     "execution_count": 71,
     "metadata": {},
     "output_type": "execute_result"
    }
   ],
   "source": [
    "divisors(11)"
   ]
  },
  {
   "cell_type": "markdown",
   "metadata": {},
   "source": [
    "# Nested for loop"
   ]
  },
  {
   "cell_type": "code",
   "execution_count": null,
   "metadata": {
    "collapsed": true
   },
   "outputs": [],
   "source": [
    "'''Write function inBoth() that takes:\n",
    "2 lists as input\n",
    "and returns True if there is an item that is common to both lists and False otherwise\n",
    "\n",
    ">>> inBoth([3, 2, 5, 4, 7], [9, 0, 1, 3])\n",
    "True\n",
    ">>> inBoth([2, 5, 4, 7], [9, 0, 1, 3])\n",
    "False\n",
    "\n",
    "'''"
   ]
  },
  {
   "cell_type": "code",
   "execution_count": 82,
   "metadata": {},
   "outputs": [],
   "source": [
    "def inBoth(lst1, lst2):\n",
    "    for i in lst1:\n",
    "        for j in lst2:\n",
    "            if i == j:\n",
    "                return True\n",
    "    return False"
   ]
  },
  {
   "cell_type": "code",
   "execution_count": 83,
   "metadata": {},
   "outputs": [
    {
     "data": {
      "text/plain": [
       "True"
      ]
     },
     "execution_count": 83,
     "metadata": {},
     "output_type": "execute_result"
    }
   ],
   "source": [
    "inBoth([3, 2, 5, 4, 7], [9, 0, 1, 3])"
   ]
  },
  {
   "cell_type": "code",
   "execution_count": 84,
   "metadata": {},
   "outputs": [
    {
     "data": {
      "text/plain": [
       "False"
      ]
     },
     "execution_count": 84,
     "metadata": {},
     "output_type": "execute_result"
    }
   ],
   "source": [
    "inBoth([2, 5, 4, 7], [9, 0, 1, 3])"
   ]
  },
  {
   "cell_type": "code",
   "execution_count": null,
   "metadata": {
    "collapsed": true
   },
   "outputs": [],
   "source": [
    "'''Write function pairSum() that takes as input:\n",
    "a list of numbers\n",
    "a target value\n",
    "and prints the indexes of all pairs of values in the list that add up to the target value \n",
    "\n",
    ">>> pairSum([7, 8, 5, 3, 4, 6], 11)\n",
    "7 4\n",
    "8 3\n",
    "5 6\n",
    "3 8\n",
    "4 7\n",
    "6 5\n",
    "'''"
   ]
  },
  {
   "cell_type": "code",
   "execution_count": 111,
   "metadata": {},
   "outputs": [],
   "source": [
    "\n",
    "def pairSum(lst, tgt):\n",
    "    res = ''\n",
    "    for i in range(len(lst)):\n",
    "        for j in range(len(lst)):\n",
    "            if lst[i] + lst[j] == tgt:\n",
    "                print(lst[i], lst[j], tgt)"
   ]
  },
  {
   "cell_type": "code",
   "execution_count": 112,
   "metadata": {},
   "outputs": [
    {
     "name": "stdout",
     "output_type": "stream",
     "text": [
      "7 4 11\n",
      "8 3 11\n",
      "5 6 11\n",
      "3 8 11\n",
      "4 7 11\n",
      "6 5 11\n"
     ]
    }
   ],
   "source": [
    "pairSum([7, 8, 5, 3, 4, 6], 11)"
   ]
  },
  {
   "cell_type": "code",
   "execution_count": null,
   "metadata": {
    "collapsed": true
   },
   "outputs": [],
   "source": [
    "'''\n",
    "Implement function pixels() that takes as input:\n",
    "a two-dimensional list of nonnegative integer entries \n",
    "(representing the values of pixels of an image) \n",
    "and returns the number of entries that are positive \n",
    "(i.e., the number of pixels that are not dark). \n",
    "Your function should work on two-dimensional lists of any size.\n",
    "\n",
    ">>> lst = [[0, 156, 0, 0], [34, 0, 0, 0], [23, 123, 0, 34]] \n",
    ">>> pixels(lst)\n",
    "5\n",
    ">>> l = [[123, 56, 255], [34, 0, 0], [23, 123, 0], [3, 0, 0]]\n",
    ">>> pixels(lst)\n",
    "7\n",
    "'''"
   ]
  },
  {
   "cell_type": "code",
   "execution_count": 136,
   "metadata": {},
   "outputs": [],
   "source": [
    "def pixels(lst):\n",
    "    res=0\n",
    "    for i in range(len(lst)):\n",
    "        for j in range(len(lst[i])):\n",
    "            if lst[i][j] > 0:\n",
    "                res+=1\n",
    "    return res"
   ]
  },
  {
   "cell_type": "code",
   "execution_count": 137,
   "metadata": {},
   "outputs": [
    {
     "data": {
      "text/plain": [
       "5"
      ]
     },
     "execution_count": 137,
     "metadata": {},
     "output_type": "execute_result"
    }
   ],
   "source": [
    "lst = [[0, 156, 0, 0], [34, 0, 0, 0], [23, 123, 0, 34]] \n",
    "pixels(lst)"
   ]
  },
  {
   "cell_type": "code",
   "execution_count": 138,
   "metadata": {},
   "outputs": [
    {
     "data": {
      "text/plain": [
       "7"
      ]
     },
     "execution_count": 138,
     "metadata": {},
     "output_type": "execute_result"
    }
   ],
   "source": [
    "l = [[123, 56, 255], [34, 0, 0], [23, 123, 0], [3, 0, 0]]\n",
    "pixels(l)"
   ]
  },
  {
   "cell_type": "markdown",
   "metadata": {},
   "source": [
    "# while loop"
   ]
  },
  {
   "cell_type": "code",
   "execution_count": null,
   "metadata": {
    "collapsed": true
   },
   "outputs": [],
   "source": [
    "'''Write a function fibonnaci() that takes as input a bound\n",
    "and returns the first Fibnonaci number greater than the bound\n",
    "'''"
   ]
  },
  {
   "cell_type": "code",
   "execution_count": 140,
   "metadata": {},
   "outputs": [],
   "source": [
    "def Fibonnaci(bound):\n",
    "    previous = 1\n",
    "    current = 1\n",
    "    while current <= bound:\n",
    "        previous, current = current, previous + current\n",
    "    return current"
   ]
  },
  {
   "cell_type": "code",
   "execution_count": 142,
   "metadata": {},
   "outputs": [
    {
     "data": {
      "text/plain": [
       "8"
      ]
     },
     "execution_count": 142,
     "metadata": {},
     "output_type": "execute_result"
    }
   ],
   "source": [
    "Fibonnaci(7)"
   ]
  },
  {
   "cell_type": "markdown",
   "metadata": {},
   "source": [
    "# infinite loop pattern"
   ]
  },
  {
   "cell_type": "code",
   "execution_count": null,
   "metadata": {
    "collapsed": true
   },
   "outputs": [],
   "source": [
    "'''Writer a function hello2() that\n",
    "    repeatedly requests the name of the user,\n",
    "    then greets the user.\n",
    "    Terminate the function the input name is empty string.\n",
    "'''"
   ]
  },
  {
   "cell_type": "code",
   "execution_count": null,
   "metadata": {},
   "outputs": [],
   "source": [
    "def hello2():\n",
    "    while True:\n",
    "        name = input('Enter your name: ')\n",
    "        print('Hello {}'.format(name))\n",
    "    "
   ]
  },
  {
   "cell_type": "code",
   "execution_count": null,
   "metadata": {},
   "outputs": [],
   "source": [
    "hello2()"
   ]
  },
  {
   "cell_type": "markdown",
   "metadata": {},
   "source": [
    "# break, continue statements"
   ]
  },
  {
   "cell_type": "code",
   "execution_count": null,
   "metadata": {},
   "outputs": [],
   "source": [
    "'''Write function negative() that:\n",
    "takes a list of numbers as input\n",
    "returns the index of the first negative number \n",
    "in the list or -1 if there is no negative number in the list\n",
    "\n",
    ">>> lst = [3, 1, -7, -4, 9, -2]\n",
    ">>> negative(lst)\n",
    "2\n",
    ">>> negative([1, 2, 3])\n",
    "-1\n",
    "'''"
   ]
  },
  {
   "cell_type": "code",
   "execution_count": 16,
   "metadata": {},
   "outputs": [],
   "source": [
    "def negative(lst):\n",
    "    for i in range(len(lst)):\n",
    "        if (lst[i] < 0):\n",
    "            return i\n",
    "    return -1"
   ]
  },
  {
   "cell_type": "code",
   "execution_count": 17,
   "metadata": {},
   "outputs": [
    {
     "data": {
      "text/plain": [
       "2"
      ]
     },
     "execution_count": 17,
     "metadata": {},
     "output_type": "execute_result"
    }
   ],
   "source": [
    "lst = [3, 1, -7, -4, 9, -2]\n",
    "negative(lst)"
   ]
  },
  {
   "cell_type": "code",
   "execution_count": 18,
   "metadata": {},
   "outputs": [
    {
     "data": {
      "text/plain": [
       "-1"
      ]
     },
     "execution_count": 18,
     "metadata": {},
     "output_type": "execute_result"
    }
   ],
   "source": [
    "negative([1, 2, 3])"
   ]
  },
  {
   "cell_type": "code",
   "execution_count": 41,
   "metadata": {},
   "outputs": [
    {
     "data": {
      "text/plain": [
       "'. Write function power() that:\\ntakes a positive integer n as input\\nprint 2**i for i = 1, 2, …, n\\nreturn nothing\\n\\n>>> power(2)\\n2 4\\n>>> power(3)\\n2 4 8\\n>>> power(10)\\n2 4 8 16 32 64 128 256 512 1024\\n\\n'"
      ]
     },
     "execution_count": 41,
     "metadata": {},
     "output_type": "execute_result"
    }
   ],
   "source": [
    "'''. Write function power() that:\n",
    "takes a positive integer n as input\n",
    "print 2**i for i = 1, 2, …, n\n",
    "return nothing\n",
    "\n",
    ">>> power(2)\n",
    "2 4\n",
    ">>> power(3)\n",
    "2 4 8\n",
    ">>> power(10)\n",
    "2 4 8 16 32 64 128 256 512 1024\n",
    "\n",
    "'''"
   ]
  },
  {
   "cell_type": "code",
   "execution_count": 42,
   "metadata": {},
   "outputs": [],
   "source": [
    "def power(n):\n",
    "    if n > 0:\n",
    "        for i in range(1,n+1):\n",
    "            print (2**i, end = \" \")\n",
    "    print (' ')"
   ]
  },
  {
   "cell_type": "code",
   "execution_count": 43,
   "metadata": {},
   "outputs": [
    {
     "name": "stdout",
     "output_type": "stream",
     "text": [
      " \n"
     ]
    }
   ],
   "source": [
    "power(-10)"
   ]
  },
  {
   "cell_type": "code",
   "execution_count": 44,
   "metadata": {},
   "outputs": [
    {
     "data": {
      "text/plain": [
       "'. Write function is_prime() that:\\ntakes a positive integer n as input\\nreturns True if n is a prime number; return False otherwise\\n\\n[Hint] Divisors of a prime number p are only 1 and itself (p)\\n\\n>>> is_prime(2)\\nTrue\\n>>> is_prime(6)\\nFalse\\n>>> is_prime(11)\\nTrue\\n\\n'"
      ]
     },
     "execution_count": 44,
     "metadata": {},
     "output_type": "execute_result"
    }
   ],
   "source": [
    "'''. Write function is_prime() that:\n",
    "takes a positive integer n as input\n",
    "returns True if n is a prime number; return False otherwise\n",
    "\n",
    "[Hint] Divisors of a prime number p are only 1 and itself (p)\n",
    "\n",
    ">>> is_prime(2)\n",
    "True\n",
    ">>> is_prime(6)\n",
    "False\n",
    ">>> is_prime(11)\n",
    "True\n",
    "\n",
    "'''"
   ]
  },
  {
   "cell_type": "code",
   "execution_count": 57,
   "metadata": {},
   "outputs": [],
   "source": [
    "def is_prime(n):\n",
    "    if n>0 and n % 2==0:\n",
    "        return True\n",
    "    return False"
   ]
  },
  {
   "cell_type": "code",
   "execution_count": 52,
   "metadata": {},
   "outputs": [
    {
     "data": {
      "text/plain": [
       "False"
      ]
     },
     "execution_count": 52,
     "metadata": {},
     "output_type": "execute_result"
    }
   ],
   "source": [
    "is_prime(9)"
   ]
  },
  {
   "cell_type": "code",
   "execution_count": null,
   "metadata": {
    "collapsed": true
   },
   "outputs": [],
   "source": [
    "''' Write function find_largest_prime() that:\n",
    "takes a positive integer n as input\n",
    "returns the largest prime number that is smaller than n\n",
    "\n",
    "[Hint] Use the is_prime() function we just implemented\n",
    "'''"
   ]
  },
  {
   "cell_type": "code",
   "execution_count": 62,
   "metadata": {},
   "outputs": [],
   "source": [
    "def find_largest_prime(n):\n",
    "    for i in range(n, 1, -1):\n",
    "        if is_prime(i):\n",
    "            return i"
   ]
  },
  {
   "cell_type": "code",
   "execution_count": 63,
   "metadata": {},
   "outputs": [
    {
     "data": {
      "text/plain": [
       "8"
      ]
     },
     "execution_count": 63,
     "metadata": {},
     "output_type": "execute_result"
    }
   ],
   "source": [
    "find_largest_prime(9)"
   ]
  }
 ],
 "metadata": {
  "anaconda-cloud": {},
  "kernelspec": {
   "display_name": "Python 3",
   "language": "python",
   "name": "python3"
  },
  "language_info": {
   "codemirror_mode": {
    "name": "ipython",
    "version": 3
   },
   "file_extension": ".py",
   "mimetype": "text/x-python",
   "name": "python",
   "nbconvert_exporter": "python",
   "pygments_lexer": "ipython3",
   "version": "3.7.1"
  }
 },
 "nbformat": 4,
 "nbformat_minor": 1
}
