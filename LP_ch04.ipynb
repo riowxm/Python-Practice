{
 "cells": [
  {
   "cell_type": "markdown",
   "metadata": {},
   "source": [
    "# list indexing"
   ]
  },
  {
   "cell_type": "code",
   "execution_count": 1,
   "metadata": {},
   "outputs": [],
   "source": [
    "'''The indexing operator can also be used to obtain slices of a list as well. \n",
    "Let list lst refer to list\n",
    "\n",
    "\t['a', 'b', 'c', 'd', 'e', 'f', 'g', 'h’]\n",
    "\n",
    "Write Python expressions using list lst and the indexing operator that evaluate to:\n",
    "'''\n",
    "lst = ['a', 'b', 'c', 'd', 'e', 'f', 'g', 'h']"
   ]
  },
  {
   "cell_type": "code",
   "execution_count": 2,
   "metadata": {},
   "outputs": [
    {
     "data": {
      "text/plain": [
       "['a', 'b', 'c', 'd']"
      ]
     },
     "execution_count": 2,
     "metadata": {},
     "output_type": "execute_result"
    }
   ],
   "source": [
    "# ['a', 'b', 'c', 'd']\n",
    "lst[:4]"
   ]
  },
  {
   "cell_type": "code",
   "execution_count": 3,
   "metadata": {},
   "outputs": [
    {
     "data": {
      "text/plain": [
       "['d', 'e', 'f']"
      ]
     },
     "execution_count": 3,
     "metadata": {},
     "output_type": "execute_result"
    }
   ],
   "source": [
    "# ['d', 'e', 'f']\n",
    "lst[3:6]"
   ]
  },
  {
   "cell_type": "code",
   "execution_count": 5,
   "metadata": {},
   "outputs": [
    {
     "data": {
      "text/plain": [
       "'d'"
      ]
     },
     "execution_count": 5,
     "metadata": {},
     "output_type": "execute_result"
    }
   ],
   "source": [
    "# ['d']\n",
    "lst[3]"
   ]
  },
  {
   "cell_type": "code",
   "execution_count": 6,
   "metadata": {},
   "outputs": [
    {
     "data": {
      "text/plain": [
       "['f', 'g']"
      ]
     },
     "execution_count": 6,
     "metadata": {},
     "output_type": "execute_result"
    }
   ],
   "source": [
    "# ['f', 'g']\n",
    "lst[5:7]"
   ]
  },
  {
   "cell_type": "code",
   "execution_count": 14,
   "metadata": {},
   "outputs": [
    {
     "data": {
      "text/plain": [
       "['d', 'e', 'f', 'g', 'h']"
      ]
     },
     "execution_count": 14,
     "metadata": {},
     "output_type": "execute_result"
    }
   ],
   "source": [
    "# ['d', 'e', 'f', 'g’, 'h']\n",
    "lst[-5:]"
   ]
  },
  {
   "cell_type": "code",
   "execution_count": 13,
   "metadata": {},
   "outputs": [
    {
     "data": {
      "text/plain": [
       "['f', 'g', 'h']"
      ]
     },
     "execution_count": 13,
     "metadata": {},
     "output_type": "execute_result"
    }
   ],
   "source": [
    "# ['f', 'g', 'h']\n",
    "lst[-3:]"
   ]
  },
  {
   "cell_type": "markdown",
   "metadata": {},
   "source": [
    "# string methods"
   ]
  },
  {
   "cell_type": "code",
   "execution_count": 28,
   "metadata": {},
   "outputs": [
    {
     "name": "stdout",
     "output_type": "stream",
     "text": [
      "9/13 2:30 PM\n",
      "9/14 11:15 AM\n",
      "9/14 1:00 PM\n",
      "9/15 9:00 AM\n"
     ]
    }
   ],
   "source": [
    "#\n",
    "# String events describes the schedule of 4 events spread across 3 days\n",
    "#\n",
    "events = '9/13 2:30 PM\\n9/14 11:15 AM\\n9/14 1:00 PM\\n9/15 9:00 AM'\n",
    "print(events)"
   ]
  },
  {
   "cell_type": "code",
   "execution_count": 30,
   "metadata": {},
   "outputs": [
    {
     "name": "stdout",
     "output_type": "stream",
     "text": [
      "2\n"
     ]
    }
   ],
   "source": [
    "# the number of events on 9/14\n",
    "print(events.count('9/14'))\n",
    "        "
   ]
  },
  {
   "cell_type": "code",
   "execution_count": 31,
   "metadata": {},
   "outputs": [
    {
     "data": {
      "text/plain": [
       "13"
      ]
     },
     "execution_count": 31,
     "metadata": {},
     "output_type": "execute_result"
    }
   ],
   "source": [
    "# the index of the substring describing the 1st event on 9/14\n",
    "events.find('9/14')"
   ]
  },
  {
   "cell_type": "code",
   "execution_count": 32,
   "metadata": {},
   "outputs": [
    {
     "data": {
      "text/plain": [
       "40"
      ]
     },
     "execution_count": 32,
     "metadata": {},
     "output_type": "execute_result"
    }
   ],
   "source": [
    "# the index just past the substring describing the last event on 9/14\n",
    "events.find('9/15')"
   ]
  },
  {
   "cell_type": "code",
   "execution_count": 36,
   "metadata": {},
   "outputs": [
    {
     "data": {
      "text/plain": [
       "['9/14 11:15 AM', '9/14 1:00 PM']"
      ]
     },
     "execution_count": 36,
     "metadata": {},
     "output_type": "execute_result"
    }
   ],
   "source": [
    "# the list of substrings describing the events on 9/14 \n",
    "events[13:39].split('\\n')"
   ]
  },
  {
   "cell_type": "code",
   "execution_count": 39,
   "metadata": {},
   "outputs": [
    {
     "data": {
      "text/plain": [
       "['9/14 11:15 AM', '9/14 1:00 PM']"
      ]
     },
     "execution_count": 39,
     "metadata": {},
     "output_type": "execute_result"
    }
   ],
   "source": [
    "events[13:40].strip().split('\\n')"
   ]
  },
  {
   "cell_type": "markdown",
   "metadata": {},
   "source": [
    "# Reading a text file \"example.txt\""
   ]
  },
  {
   "cell_type": "code",
   "execution_count": 62,
   "metadata": {},
   "outputs": [
    {
     "name": "stdout",
     "output_type": "stream",
     "text": [
      "1 The 3 lines in this file end with the new line character.\n",
      "2 \n",
      "3 There is a blank line above this line.\n",
      "\n",
      "stuffstuffstuffwhateverand more whatever\n"
     ]
    }
   ],
   "source": [
    "# read the file content into a string\n",
    "with open('example.txt') as infile:\n",
    "    content = infile.read()\n",
    "print(content)"
   ]
  },
  {
   "cell_type": "code",
   "execution_count": 63,
   "metadata": {},
   "outputs": [
    {
     "name": "stdout",
     "output_type": "stream",
     "text": [
      "['1', 'The', '3', 'lines', 'in', 'this', 'file', 'end', 'with', 'the', 'new', 'line', 'character.', '2', '3', 'There', 'is', 'a', 'blank', 'line', 'above', 'this', 'line.', 'stuffstuffstuffwhateverand', 'more', 'whatever']\n"
     ]
    }
   ],
   "source": [
    "# read the file content into a list of words\n",
    "with open('example.txt') as infile:\n",
    "    content = infile.read()\n",
    "    list_words = content.split()\n",
    "print(list_words)"
   ]
  },
  {
   "cell_type": "code",
   "execution_count": 77,
   "metadata": {},
   "outputs": [
    {
     "name": "stdout",
     "output_type": "stream",
     "text": [
      "['1 The 3 lines in this file end with the new line character.\\n', '2 \\n', '3 There is a blank line above this line.\\n', '\\n', 'stuffstuffstuffwhateverand more whatever']\n"
     ]
    }
   ],
   "source": [
    "# read the file content into a list of lines\n",
    "with open('example.txt') as infile:\n",
    "    lines = infile.readlines()\n",
    "print(lines)"
   ]
  },
  {
   "cell_type": "code",
   "execution_count": 72,
   "metadata": {},
   "outputs": [
    {
     "data": {
      "text/plain": [
       "145"
      ]
     },
     "execution_count": 72,
     "metadata": {},
     "output_type": "execute_result"
    }
   ],
   "source": [
    "# define a function num_char(file_name) which returns the number of characters of the input file\n",
    "def num_char(filename):\n",
    "    with open (filename) as infile:\n",
    "        content = infile.read()\n",
    "    return len(content)\n",
    "    \n",
    "num_char('example.txt')"
   ]
  },
  {
   "cell_type": "code",
   "execution_count": 75,
   "metadata": {},
   "outputs": [
    {
     "data": {
      "text/plain": [
       "26"
      ]
     },
     "execution_count": 75,
     "metadata": {},
     "output_type": "execute_result"
    }
   ],
   "source": [
    "# define a function num_words(file_name) which returns the number of words of the input file\n",
    "def num_words(filename):\n",
    "    with open(filename) as infile:\n",
    "        content = infile.read()\n",
    "        word = content.split()\n",
    "    return len(word)\n",
    "\n",
    "num_words('example.txt')"
   ]
  },
  {
   "cell_type": "code",
   "execution_count": 79,
   "metadata": {},
   "outputs": [
    {
     "data": {
      "text/plain": [
       "5"
      ]
     },
     "execution_count": 79,
     "metadata": {},
     "output_type": "execute_result"
    }
   ],
   "source": [
    "# define a function num_lines(file_name) which returns the number of lines of the input file\n",
    "def num_lines(filename):\n",
    "    with open(filename) as infile:\n",
    "        lines = infile.readlines()\n",
    "    return len(lines)\n",
    "num_lines('example.txt')"
   ]
  },
  {
   "cell_type": "markdown",
   "metadata": {},
   "source": [
    "# Writing to a text file \"new_file.txt\"\n",
    "\n",
    "### Hello, World!\n",
    "### I love Python programming.\n",
    "### Really?"
   ]
  },
  {
   "cell_type": "code",
   "execution_count": null,
   "metadata": {
    "collapsed": true
   },
   "outputs": [],
   "source": [
    "# write to a new text file\n",
    "with open('new_file2.txt', 'w') as outfile:\n",
    "    outfile.write('Hello, World!\\n')\n",
    "    outfile.write('I love Python programming\\n')\n",
    "    outfile.write('Really?')"
   ]
  }
 ],
 "metadata": {
  "anaconda-cloud": {},
  "kernelspec": {
   "display_name": "Python 3",
   "language": "python",
   "name": "python3"
  },
  "language_info": {
   "codemirror_mode": {
    "name": "ipython",
    "version": 3
   },
   "file_extension": ".py",
   "mimetype": "text/x-python",
   "name": "python",
   "nbconvert_exporter": "python",
   "pygments_lexer": "ipython3",
   "version": "3.7.1"
  }
 },
 "nbformat": 4,
 "nbformat_minor": 1
}
